{
 "cells": [
  {
   "cell_type": "code",
   "execution_count": null,
   "metadata": {
    "id": "A5dlbtDgls7r"
   },
   "outputs": [],
   "source": [
    "import numpy as np\n",
    "import pandas as pd\n",
    "import tensorflow as tf\n",
    "from matplotlib import pyplot\n",
    "from tensorflow.keras import backend as K\n",
    "from tensorflow.python.framework import ops\n",
    "from tensorflow.keras.regularizers import l1,l2\n",
    "from tensorflow.keras.initializers import glorot_uniform\n",
    "from tensorflow.keras.models import Sequential\n",
    "from tensorflow.keras.layers import (\n",
    "    LSTM,\n",
    "    Dense,\n",
    "    Input,\n",
    "    Add\n",
    ")\n",
    "\n",
    "import math"
   ]
  },
  {
   "cell_type": "code",
   "execution_count": null,
   "metadata": {
    "id": "x2C37WZ05QUz"
   },
   "outputs": [],
   "source": [
    "def mape(gt,pred):\n",
    "    return np.abs((gt-pred)/gt)\n",
    "    "
   ]
  },
  {
   "cell_type": "code",
   "execution_count": null,
   "metadata": {
    "id": "gOADe4NYlxM_"
   },
   "outputs": [],
   "source": [
    "#----------change path according to local directories--------\n",
    "\n",
    "window_sz = 28\n",
    "horizon = 7\n",
    "expert_path='../expert_preds/COVID/'\n",
    "\n",
    "data=np.asarray(pd.read_csv('/data/COVID/covid_data.csv',header=None))\n"
   ]
  },
  {
   "cell_type": "markdown",
   "metadata": {
    "id": "JC1yMzoC2Q4A"
   },
   "source": [
    "### Prepare data ---> Training and test data for LSTM and FourTheta"
   ]
  },
  {
   "cell_type": "code",
   "execution_count": null,
   "metadata": {
    "id": "XaiBN1CfmBom"
   },
   "outputs": [],
   "source": [
    "# Prepare data for LSTM. Transorm time series into a supervised learning problem\n",
    "def prepareData(ts): \n",
    "    \n",
    "    samples = []\n",
    "    labels = []\n",
    "    minmaxtracker = []\n",
    "    \n",
    "    for i in range(len(ts)-window_sz-horizon+1):\n",
    "        \n",
    "        x = np.asarray(ts[i:i+window_sz])\n",
    "        \n",
    "        is_all_zero = np.all((x == 0))\n",
    "     \n",
    "        y = np.asarray(ts[i+window_sz: i+window_sz + horizon])\n",
    "        \n",
    "        if x.max() == x.min():\n",
    "            x_np = 2*(((x - x.min()) / (x.max())) - 0.5)\n",
    "\n",
    "            \n",
    "        else:            \n",
    "            x_np = 2*(((x - x.min()) / (x.max() - x.min())) - 0.5)\n",
    "\n",
    "\n",
    "        samples.append(x_np)\n",
    "        labels.append(y)\n",
    "        \n",
    "        minmaxtracker.append((i, x.min(), x.max()))\n",
    "   \n",
    "    return np.array(samples), np.array(labels)"
   ]
  },
  {
   "cell_type": "code",
   "execution_count": null,
   "metadata": {
    "id": "f5R42pW0g4hb"
   },
   "outputs": [],
   "source": [
    "#Prepare test data\n",
    "def prepareTestData(ts): \n",
    "\n",
    "    samples = []\n",
    "    labels = []\n",
    "    minmaxtracker = []\n",
    "\n",
    "#     length=78 - window_sz\n",
    "    length=50\n",
    "    loop=length//horizon\n",
    "    extra = length%horizon\n",
    "    \n",
    "    \n",
    "    x=np.zeros([loop+1,window_sz])  \n",
    "    y=np.zeros([loop+1,horizon])\n",
    "    for i in range(loop):\n",
    "        \n",
    "        x[i,:] = ts[i*horizon:(i*horizon)+window_sz]\n",
    "        y[i,:] = ts[(i*horizon)+window_sz:(i*horizon)+window_sz+horizon]\n",
    "    x[loop,:] = ts[(loop)*horizon:((loop)*horizon)+window_sz]\n",
    "    y[loop,:extra] = ts[((loop)*horizon)+window_sz:((loop)*horizon)+window_sz+horizon]\n",
    "    min_in=np.min(x,axis=1).reshape(x.shape[0],1)\n",
    "    max_in=np.max(x,axis=1).reshape(x.shape[0],1)\n",
    "       \n",
    "\n",
    "    denom=max_in-min_in\n",
    "    a = np.where(denom == 0)[0]\n",
    "    denom[a] = max_in[a] \n",
    "    a = np.where(denom == 0)[0]\n",
    "    if a.size>0:\n",
    "        denom[a]=-1\n",
    "    x= 2*(((x - min_in) / (max_in - min_in)) - 0.5)\n",
    "      \n",
    "        \n",
    "        \n",
    "        \n",
    "        \n",
    "    \n",
    "    return x, y"
   ]
  },
  {
   "cell_type": "code",
   "execution_count": null,
   "metadata": {
    "colab": {
     "base_uri": "https://localhost:8080/",
     "height": 346
    },
    "id": "1eWhR00MmBrQ",
    "outputId": "e1df4118-15a6-41b0-a2f8-4312b8171c5c"
   },
   "outputs": [],
   "source": [
    "# read csv file with inpatients column only\n",
    "\n",
    "df = pd.read_csv('/home/chatta/Health_datas/Project_Time-Series-Forecasting-main/Covid/Data/COVID_confirmed_latest.csv', header=0)\n"
   ]
  },
  {
   "cell_type": "code",
   "execution_count": null,
   "metadata": {},
   "outputs": [],
   "source": [
    "df = df[:110]\n",
    "df.drop(['date'], axis=1, inplace=True)"
   ]
  },
  {
   "cell_type": "code",
   "execution_count": null,
   "metadata": {
    "id": "kF4pQM-7mBt1"
   },
   "outputs": [],
   "source": [
    "\n",
    "train_df = df[:60]\n",
    "test_df = df[32:110]"
   ]
  },
  {
   "cell_type": "code",
   "execution_count": null,
   "metadata": {
    "colab": {
     "base_uri": "https://localhost:8080/"
    },
    "id": "-9tmYGjMmdYo",
    "outputId": "b24c174c-b208-4f77-c804-cfa4b2737df7"
   },
   "outputs": [],
   "source": [
    "df.shape"
   ]
  },
  {
   "cell_type": "code",
   "execution_count": null,
   "metadata": {
    "id": "haHdJbuvDrHh"
   },
   "outputs": [],
   "source": [
    "mape_ts = []\n",
    "for index in range(25):\n",
    "    \n",
    "    print(\"index\", index)    \n",
    "    fileNumber =index + 2\n",
    "    train_column = train_df.iloc[:, index]\n",
    "    train_ts = train_column.values.astype(float)\n",
    "\n",
    "    test_column = test_df.iloc[:, index]\n",
    "    test_ts = test_column.values.astype(float)\n",
    "\n",
    "    X_train, y_train = prepareData(train_ts)\n",
    "    X_train = X_train.reshape(X_train.shape[0], X_train.shape[1], 1)\n",
    "    y_train = y_train.reshape(y_train.shape[0], y_train.shape[1])\n",
    "    \n",
    "    X_test, y_test = prepareTestData(test_ts)\n",
    "    X_test = X_test.reshape(X_test.shape[0], X_test.shape[1], 1)\n",
    "    y_test = y_test.reshape(y_test.shape[0], y_test.shape[1])\n",
    "    \n",
    "    expert_train_df = pd.read_csv(expert_path+'train_'+str(fileNumber-1)+'.csv',index_col=[0], header=0)\n",
    "    expert_train_df.dropna(inplace=True)  \n",
    "\n",
    "    expert_train = np.asarray(expert_train_df).reshape(-1, horizon, 1)\n",
    "    \n",
    "    expert_test_df = pd.read_csv(expert_path+'test_'+str(fileNumber-1)+'.csv',index_col=[0], header=0)\n",
    "\n",
    "    expert_test = np.asarray(expert_test_df).reshape(-1, horizon, 1)\n",
    "    \n",
    "\n",
    "       \n",
    "    train_expert_combined = np.append(X_train, expert_train, axis=1)\n",
    "    test_expert_combined = np.append(X_test, expert_test, axis=1)\n",
    "    \n",
    "    \n",
    "    expert_train=expert_train.reshape(expert_train.shape[0],horizon)\n",
    "    expert_test=expert_test.reshape(expert_test.shape[0],horizon)\n",
    "    \n",
    "    ops.reset_default_graph()\n",
    "    K.clear_session()\n",
    "\n",
    "    inputs_train= Input(batch_shape=(None,window_sz+horizon, 1))\n",
    "    inputs_expert = Input(batch_shape=(None, horizon))\n",
    "    layer1 = LSTM(4, activation='relu', kernel_initializer=glorot_uniform(3))(inputs_train)\n",
    "    layer2 = Dense(horizon, activation='linear')(layer1)\n",
    "    residual = Add()([layer2, inputs_expert])\n",
    "\n",
    "    model = tf.keras.Model(inputs=[inputs_train, inputs_expert], outputs=residual, name =\"covid\")\n",
    "    model.compile(optimizer=tf.keras.optimizers.Adam(lr=0.0001), \n",
    "                  loss='mse', metrics=['mse'])\n",
    "    \n",
    "    model.fit([train_expert_combined, expert_train], y_train, shuffle=False, epochs=50, batch_size=20, verbose=0)\n",
    "\n",
    "    \n",
    "    preds = model.predict(([test_expert_combined, expert_test]))\n",
    "\n",
    "    preds=preds.flatten()[:50]\n",
    "    error = mape(test_ts[-50:],preds)\n",
    "    mape_ts.append(error)\n",
    "\n"
   ]
  },
  {
   "cell_type": "code",
   "execution_count": null,
   "metadata": {},
   "outputs": [],
   "source": [
    "np.mean(mape_ts)"
   ]
  }
 ],
 "metadata": {
  "colab": {
   "collapsed_sections": [],
   "name": "Multivariate_timeSeries_Covid.ipynb",
   "provenance": []
  },
  "kernelspec": {
   "display_name": "Python 3",
   "language": "python",
   "name": "python3"
  },
  "language_info": {
   "codemirror_mode": {
    "name": "ipython",
    "version": 3
   },
   "file_extension": ".py",
   "mimetype": "text/x-python",
   "name": "python",
   "nbconvert_exporter": "python",
   "pygments_lexer": "ipython3",
   "version": "3.7.3"
  }
 },
 "nbformat": 4,
 "nbformat_minor": 1
}
